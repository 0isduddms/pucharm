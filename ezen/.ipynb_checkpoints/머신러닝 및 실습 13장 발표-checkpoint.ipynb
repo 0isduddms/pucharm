{
 "cells": [
  {
   "cell_type": "code",
   "execution_count": 6,
   "metadata": {},
   "outputs": [
    {
     "name": "stdout",
     "output_type": "stream",
     "text": [
      "16\n"
     ]
    }
   ],
   "source": [
    "def pow1(x) :\n",
    "    return x ** 2\n",
    "\n",
    "a=4\n",
    "b=pow1(a)\n",
    "print(b)"
   ]
  },
  {
   "cell_type": "code",
   "execution_count": 7,
   "metadata": {},
   "outputs": [
    {
     "name": "stdout",
     "output_type": "stream",
     "text": [
      "9\n"
     ]
    }
   ],
   "source": [
    "pow2=lambda x : x ** 2\n",
    "\n",
    "a=pow2(3)\n",
    "print(a)"
   ]
  },
  {
   "cell_type": "code",
   "execution_count": null,
   "metadata": {},
   "outputs": [],
   "source": [
    "# 키를 설정해서 정렬, revers는 생략 가능 생략시 False가 기본값\n",
    "sorted(정렬하려는 배열, key=키가 되는 함수, revers = True 또는 False)"
   ]
  },
  {
   "cell_type": "code",
   "execution_count": 9,
   "metadata": {
    "scrolled": true
   },
   "outputs": [
    {
     "name": "stdout",
     "output_type": "stream",
     "text": [
      "21\n",
      "21\n"
     ]
    }
   ],
   "source": [
    "a=4\n",
    "\n",
    "def func1(x) :\n",
    "    return 2 * x**2 - 3*x + 1\n",
    "\n",
    "func2=lambda x : 2 * x**2 - 3*x + 1\n",
    "\n",
    "print(func1(a))\n",
    "print(func2(a))"
   ]
  },
  {
   "cell_type": "code",
   "execution_count": 11,
   "metadata": {},
   "outputs": [
    {
     "name": "stdout",
     "output_type": "stream",
     "text": [
      "8\n"
     ]
    }
   ],
   "source": [
    "add1 = lambda x,y : x + y\n",
    "\n",
    "print((lambda x,y : x + y)(3,5))"
   ]
  },
  {
   "cell_type": "code",
   "execution_count": 12,
   "metadata": {},
   "outputs": [
    {
     "name": "stdout",
     "output_type": "stream",
     "text": [
      "32\n",
      "32\n"
     ]
    }
   ],
   "source": [
    "x=5\n",
    "y=6\n",
    "z=2\n",
    "\n",
    "def func3(x,y,z) :\n",
    "    return x * y + z\n",
    "\n",
    "func4=lambda x, y, z : x * y + z\n",
    "\n",
    "print(func3(x,y,z))\n",
    "print(func4(x,y,z))"
   ]
  },
  {
   "cell_type": "code",
   "execution_count": 18,
   "metadata": {},
   "outputs": [
    {
     "name": "stdout",
     "output_type": "stream",
     "text": [
      "4\n"
     ]
    }
   ],
   "source": [
    "def lower_three1(x) :\n",
    "    if x < 3 :\n",
    "        return x * 2\n",
    "    else :\n",
    "        return x/3 + 5\n",
    "\n",
    "print(lower_three1(2))"
   ]
  },
  {
   "cell_type": "code",
   "execution_count": 17,
   "metadata": {},
   "outputs": [
    {
     "name": "stdout",
     "output_type": "stream",
     "text": [
      "4\n"
     ]
    }
   ],
   "source": [
    "lower_three2 = lambda x : x * 2 if x < 3 else x/3 + 5\n",
    "\n",
    "print(lower_three2(2))"
   ]
  },
  {
   "cell_type": "code",
   "execution_count": 21,
   "metadata": {},
   "outputs": [
    {
     "name": "stdout",
     "output_type": "stream",
     "text": [
      "-1\n",
      "50\n"
     ]
    }
   ],
   "source": [
    "a1=13\n",
    "a2=32\n",
    "\n",
    "func5=lambda x : x**2 - 40*x + 350 if x>=10 and x<30 else 50\n",
    "\n",
    "print(func5(a1))\n",
    "print(func5(a2))"
   ]
  },
  {
   "cell_type": "code",
   "execution_count": 8,
   "metadata": {},
   "outputs": [
    {
     "name": "stdout",
     "output_type": "stream",
     "text": [
      "['this', 'is', 'a', 'test', 'sentence.']\n",
      "['this', 'is', 'a test sentence.']\n"
     ]
    }
   ],
   "source": [
    "# 분할할 문자열\n",
    "test_sentence = 'this is a test sentence.'\n",
    "\n",
    "#split()함수로 분할한다.\n",
    "a=test_sentence.split(' ')\n",
    "b=test_sentence.split(' ',2)\n",
    "\n",
    "print(a)\n",
    "print(b)"
   ]
  },
  {
   "cell_type": "code",
   "execution_count": 27,
   "metadata": {},
   "outputs": [
    {
     "name": "stdout",
     "output_type": "stream",
     "text": [
      "Yeongeun\n"
     ]
    }
   ],
   "source": [
    "self_data = 'My name is Yeongeun'\n",
    "\n",
    "#self_data를 분할해서 리스트를 작성한다.\n",
    "word_list = self_data.split(\" \")\n",
    "\n",
    "print(word_list[3])"
   ]
  },
  {
   "cell_type": "code",
   "execution_count": 28,
   "metadata": {},
   "outputs": [
    {
     "data": {
      "text/plain": [
       "['this', 'is', 'a', 'test', 'sentence']"
      ]
     },
     "execution_count": 28,
     "metadata": {},
     "output_type": "execute_result"
    }
   ],
   "source": [
    "import re\n",
    "\n",
    "test_sentence = 'this,is a.test,sentence'\n",
    "re.split('[,. ]',test_sentence)"
   ]
  },
  {
   "cell_type": "code",
   "execution_count": 29,
   "metadata": {},
   "outputs": [
    {
     "name": "stdout",
     "output_type": "stream",
     "text": [
      "10 18\n"
     ]
    }
   ],
   "source": [
    "import re\n",
    "\n",
    "time_data = '2020/10/26_18:00'\n",
    "time_list = re.split('[/_:]',time_data)\n",
    "print(time_list[1],time_list[3])"
   ]
  },
  {
   "cell_type": "code",
   "execution_count": 30,
   "metadata": {},
   "outputs": [
    {
     "name": "stdout",
     "output_type": "stream",
     "text": [
      "[1, 2, 3, 4, 5]\n"
     ]
    }
   ],
   "source": [
    "a=[1,-2,3,-4,5]\n",
    "new=[]\n",
    "for x in a :\n",
    "    new.append(abs(x))\n",
    "print(new)"
   ]
  },
  {
   "cell_type": "code",
   "execution_count": 31,
   "metadata": {},
   "outputs": [
    {
     "data": {
      "text/plain": [
       "[1, 2, 3, 4, 5]"
      ]
     },
     "execution_count": 31,
     "metadata": {},
     "output_type": "execute_result"
    }
   ],
   "source": [
    "a=[1,-2,3,-4,5]\n",
    "list(map(abs,a))"
   ]
  },
  {
   "cell_type": "code",
   "execution_count": 10,
   "metadata": {},
   "outputs": [
    {
     "name": "stdout",
     "output_type": "stream",
     "text": [
      "['2', '23', '14', '7', '22']\n"
     ]
    }
   ],
   "source": [
    "import re\n",
    "\n",
    "time_list = [\n",
    "    '2006/11/26_2:40',\n",
    "    '2009/1/16_23:35',\n",
    "    '2014/5/4_14:26',\n",
    "    '2017/8/9_7:5',\n",
    "    '2020/1/5_22:15'\n",
    "]\n",
    "get_hour=lambda x : re.split('[/_:]',x)[3]\n",
    "hour_list = list(map(get_hour,time_list))\n",
    "print(hour_list)"
   ]
  },
  {
   "cell_type": "code",
   "execution_count": 75,
   "metadata": {},
   "outputs": [
    {
     "name": "stdout",
     "output_type": "stream",
     "text": [
      "[6, 3, 8, 7, 5, 7, 4]\n"
     ]
    }
   ],
   "source": [
    "import re\n",
    "\n",
    "# animals... '동물 : 평균무게, 평균수명'\n",
    "animals=['rabbit:9,1.5',\n",
    "         'fox:3.5,3.5',\n",
    "         'elephant:70,3500',\n",
    "         'dolphin:29,4500',\n",
    "         'tiger:13,200',\n",
    "         'giraffe:24,800',\n",
    "         'wolf:6,40']\n",
    "get_animal = lambda x : re.split('[:,]',x)[0]\n",
    "animal_list=list(map(len,map(get_animal,animals)))\n",
    "\n",
    "print(animal_list)"
   ]
  },
  {
   "cell_type": "code",
   "execution_count": 46,
   "metadata": {},
   "outputs": [
    {
     "name": "stdout",
     "output_type": "stream",
     "text": [
      "[1, 3, 5]\n"
     ]
    }
   ],
   "source": [
    "a=[1,-2,3,-4,5]\n",
    "new=[]\n",
    "for x in a :\n",
    "    if x > 0 :\n",
    "        new.append(x)\n",
    "        \n",
    "print(new)"
   ]
  },
  {
   "cell_type": "code",
   "execution_count": 47,
   "metadata": {},
   "outputs": [
    {
     "name": "stdout",
     "output_type": "stream",
     "text": [
      "[1, 3, 5]\n"
     ]
    }
   ],
   "source": [
    "a=[1,-2,3,-4,5]\n",
    "print(list(filter(lambda x : x>0, a)))"
   ]
  },
  {
   "cell_type": "code",
   "execution_count": 49,
   "metadata": {},
   "outputs": [
    {
     "name": "stdout",
     "output_type": "stream",
     "text": [
      "['2009/1/16_23:35', '2014/5/4_14:26', '2020/1/5_22:15']\n"
     ]
    }
   ],
   "source": [
    "import re\n",
    "\n",
    "time_list = [\n",
    "    '2006/11/26_2:40',\n",
    "    '2009/1/16_23:35',\n",
    "    '2014/5/4_14:26',\n",
    "    '2017/8/9_7:5',\n",
    "    '2020/1/5_22:15'\n",
    "]\n",
    "\n",
    "months_data = lambda x : int(re.split('[/_:]',x)[1]) - 7 < 0\n",
    "months_list = list(filter(months_data,time_list))\n",
    "\n",
    "print(months_list)"
   ]
  },
  {
   "cell_type": "code",
   "execution_count": 11,
   "metadata": {},
   "outputs": [
    {
     "name": "stdout",
     "output_type": "stream",
     "text": [
      "['rabbit:9,1.5', 'elephant:70,3500', 'dolphin:29,4500', 'tiger:13,200', 'giraffe:24,800']\n"
     ]
    }
   ],
   "source": [
    "import re\n",
    "\n",
    "animals=['rabbit:9,1.5',\n",
    "         'fox:3.5,3.5',\n",
    "         'elephant:70,3500',\n",
    "         'dolphin:29,4500',\n",
    "         'tiger:13,200',\n",
    "         'giraffe:24,800',\n",
    "         'wolf:6,40']\n",
    "get_animal = lambda x : len(re.split('[:,]',x)[0]) >= 5\n",
    "animal_list=list(filter(get_animal,animals))\n",
    "\n",
    "print(animal_list)"
   ]
  },
  {
   "cell_type": "code",
   "execution_count": 50,
   "metadata": {
    "scrolled": true
   },
   "outputs": [
    {
     "name": "stdout",
     "output_type": "stream",
     "text": [
      "[[4, 5], [3, 6], [2, 7], [1, 8], [0, 9]]\n"
     ]
    }
   ],
   "source": [
    "nest_list = [\n",
    "    [0,9],\n",
    "    [1,8],\n",
    "    [2,7],\n",
    "    [3,6],\n",
    "    [4,5]\n",
    "]\n",
    "\n",
    "print(sorted(nest_list,key=lambda x : x[1]))"
   ]
  },
  {
   "cell_type": "code",
   "execution_count": 51,
   "metadata": {},
   "outputs": [
    {
     "name": "stdout",
     "output_type": "stream",
     "text": [
      "['2006/11/26_2:40', '2017/8/9_7:5', '2014/5/4_14:26', '2020/1/5_22:15', '2009/1/16_23:35']\n"
     ]
    }
   ],
   "source": [
    "import re\n",
    "\n",
    "time_list = [\n",
    "    '2006/11/26_2:40',\n",
    "    '2009/1/16_23:35',\n",
    "    '2014/5/4_14:26',\n",
    "    '2017/8/9_7:5',\n",
    "    '2020/1/5_22:15'\n",
    "]\n",
    "\n",
    "sort_by_time = sorted(time_list,key = lambda x : int(re.split('[/_:]',x)[3]))\n",
    "print(sort_by_time)"
   ]
  },
  {
   "cell_type": "code",
   "execution_count": 76,
   "metadata": {},
   "outputs": [
    {
     "name": "stdout",
     "output_type": "stream",
     "text": [
      "['pork/9200', 'banana/5600', 'cabagge/3600', 'apple/3200', 'coke/2200', 'potato chip/1500']\n"
     ]
    }
   ],
   "source": [
    "#goods_list... 물품/가격\n",
    "goods_list = [\n",
    "    'banana/5600',\n",
    "    'apple/3200',\n",
    "    'pork/9200',\n",
    "    'potato chip/1500',\n",
    "    'coke/2200',\n",
    "    'cabagge/3600'\n",
    "]\n",
    "get_price = lambda x : int(re.split('/',x)[1])\n",
    "price_list = list(sorted(goods_list,key=get_price,reverse=1))\n",
    "print(price_list)"
   ]
  }
 ],
 "metadata": {
  "kernelspec": {
   "display_name": "Python 3",
   "language": "python",
   "name": "python3"
  },
  "language_info": {
   "codemirror_mode": {
    "name": "ipython",
    "version": 3
   },
   "file_extension": ".py",
   "mimetype": "text/x-python",
   "name": "python",
   "nbconvert_exporter": "python",
   "pygments_lexer": "ipython3",
   "version": "3.6.10"
  }
 },
 "nbformat": 4,
 "nbformat_minor": 4
}
